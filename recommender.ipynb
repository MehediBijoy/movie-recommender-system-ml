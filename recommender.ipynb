{
 "metadata": {
  "language_info": {
   "codemirror_mode": {
    "name": "ipython",
    "version": 3
   },
   "file_extension": ".py",
   "mimetype": "text/x-python",
   "name": "python",
   "nbconvert_exporter": "python",
   "pygments_lexer": "ipython3",
   "version": "3.8.5-final"
  },
  "orig_nbformat": 2,
  "kernelspec": {
   "name": "python3",
   "display_name": "Python 3.8.5 64-bit",
   "metadata": {
    "interpreter": {
     "hash": "49705368adc30fa3dc24020fc3680334d9bc143a0a461031e4cdc7f974c9c0b5"
    }
   }
  }
 },
 "nbformat": 4,
 "nbformat_minor": 2,
 "cells": [
  {
   "cell_type": "code",
   "execution_count": null,
   "metadata": {},
   "outputs": [],
   "source": [
    "import pandas as pd\n",
    "from sklearn.metrics.pairwise import cosine_similarity\n",
    "from sklearn.feature_extraction.text import CountVectorizer"
   ]
  },
  {
   "source": [
    "## user data"
   ],
   "cell_type": "markdown",
   "metadata": {}
  },
  {
   "cell_type": "code",
   "execution_count": 294,
   "metadata": {},
   "outputs": [
    {
     "output_type": "execute_result",
     "data": {
      "text/plain": [
       "   user id  age gender     occupation zip code\n",
       "0        2   53      F          other    94043\n",
       "1        3   23      M         writer    32067\n",
       "2        4   24      M     technician    43537\n",
       "3        5   33      F          other    15213\n",
       "4        6   42      M      executive    98101\n",
       "5        7   57      M  administrator    91344\n",
       "6        8   36      M  administrator     5201\n",
       "7        9   29      M        student     1002\n",
       "8       10   53      M         lawyer    90703\n",
       "9       11   39      F          other    30329"
      ],
      "text/html": "<div>\n<style scoped>\n    .dataframe tbody tr th:only-of-type {\n        vertical-align: middle;\n    }\n\n    .dataframe tbody tr th {\n        vertical-align: top;\n    }\n\n    .dataframe thead th {\n        text-align: right;\n    }\n</style>\n<table border=\"1\" class=\"dataframe\">\n  <thead>\n    <tr style=\"text-align: right;\">\n      <th></th>\n      <th>user id</th>\n      <th>age</th>\n      <th>gender</th>\n      <th>occupation</th>\n      <th>zip code</th>\n    </tr>\n  </thead>\n  <tbody>\n    <tr>\n      <th>0</th>\n      <td>2</td>\n      <td>53</td>\n      <td>F</td>\n      <td>other</td>\n      <td>94043</td>\n    </tr>\n    <tr>\n      <th>1</th>\n      <td>3</td>\n      <td>23</td>\n      <td>M</td>\n      <td>writer</td>\n      <td>32067</td>\n    </tr>\n    <tr>\n      <th>2</th>\n      <td>4</td>\n      <td>24</td>\n      <td>M</td>\n      <td>technician</td>\n      <td>43537</td>\n    </tr>\n    <tr>\n      <th>3</th>\n      <td>5</td>\n      <td>33</td>\n      <td>F</td>\n      <td>other</td>\n      <td>15213</td>\n    </tr>\n    <tr>\n      <th>4</th>\n      <td>6</td>\n      <td>42</td>\n      <td>M</td>\n      <td>executive</td>\n      <td>98101</td>\n    </tr>\n    <tr>\n      <th>5</th>\n      <td>7</td>\n      <td>57</td>\n      <td>M</td>\n      <td>administrator</td>\n      <td>91344</td>\n    </tr>\n    <tr>\n      <th>6</th>\n      <td>8</td>\n      <td>36</td>\n      <td>M</td>\n      <td>administrator</td>\n      <td>5201</td>\n    </tr>\n    <tr>\n      <th>7</th>\n      <td>9</td>\n      <td>29</td>\n      <td>M</td>\n      <td>student</td>\n      <td>1002</td>\n    </tr>\n    <tr>\n      <th>8</th>\n      <td>10</td>\n      <td>53</td>\n      <td>M</td>\n      <td>lawyer</td>\n      <td>90703</td>\n    </tr>\n    <tr>\n      <th>9</th>\n      <td>11</td>\n      <td>39</td>\n      <td>F</td>\n      <td>other</td>\n      <td>30329</td>\n    </tr>\n  </tbody>\n</table>\n</div>"
     },
     "metadata": {},
     "execution_count": 294
    }
   ],
   "source": [
    "user = pd.read_csv('user.csv')\n",
    "user.head(10)"
   ]
  },
  {
   "cell_type": "code",
   "execution_count": 295,
   "metadata": {},
   "outputs": [],
   "source": [
    "def combined_feature(row):\n",
    "    return str(row['age']) + ' ' + row['gender'] + ' ' + row['occupation']\n",
    "\n",
    "user['combined'] = user.apply(combined_feature, axis=1)\n",
    "\n",
    "cv = CountVectorizer()\n",
    "user_count_matrix = cv.fit_transform(user['combined'])\n",
    "user_sim = cosine_similarity(user_count_matrix)\n",
    "user = user.drop(columns=['combined', 'zip code'])"
   ]
  },
  {
   "source": [
    "## create new user"
   ],
   "cell_type": "markdown",
   "metadata": {}
  },
  {
   "cell_type": "code",
   "execution_count": 296,
   "metadata": {},
   "outputs": [
    {
     "output_type": "execute_result",
     "data": {
      "text/plain": [
       "     user id  age gender occupation\n",
       "201      203   25      F    student\n",
       "370      372   25      F    student"
      ],
      "text/html": "<div>\n<style scoped>\n    .dataframe tbody tr th:only-of-type {\n        vertical-align: middle;\n    }\n\n    .dataframe tbody tr th {\n        vertical-align: top;\n    }\n\n    .dataframe thead th {\n        text-align: right;\n    }\n</style>\n<table border=\"1\" class=\"dataframe\">\n  <thead>\n    <tr style=\"text-align: right;\">\n      <th></th>\n      <th>user id</th>\n      <th>age</th>\n      <th>gender</th>\n      <th>occupation</th>\n    </tr>\n  </thead>\n  <tbody>\n    <tr>\n      <th>201</th>\n      <td>203</td>\n      <td>25</td>\n      <td>F</td>\n      <td>student</td>\n    </tr>\n    <tr>\n      <th>370</th>\n      <td>372</td>\n      <td>25</td>\n      <td>F</td>\n      <td>student</td>\n    </tr>\n  </tbody>\n</table>\n</div>"
     },
     "metadata": {},
     "execution_count": 296
    }
   ],
   "source": [
    "newUser = [{'age': 25, 'gender': 'F', 'occupation': 'student'}]\n",
    "newUser = pd.DataFrame(newUser)\n",
    "\n",
    "userMatch = user[user['occupation'].isin(newUser['occupation'])]\n",
    "userMatch = userMatch[userMatch['age'].isin(newUser['age'])]\n",
    "userMatch = userMatch[userMatch['gender'].isin(newUser['gender'])]\n",
    "userMatch.head(10)"
   ]
  },
  {
   "cell_type": "code",
   "execution_count": 297,
   "metadata": {},
   "outputs": [
    {
     "output_type": "stream",
     "name": "stdout",
     "text": [
      "201\n"
     ]
    }
   ],
   "source": [
    "user_index = int(userMatch.index[0])\n",
    "print(user_index)"
   ]
  },
  {
   "source": [
    "## similer user"
   ],
   "cell_type": "markdown",
   "metadata": {}
  },
  {
   "source": [
    "similar_user = []\n",
    "for value in enumerate(user_sim[user_index]):\n",
    "    similar_user.append(value)\n",
    "sorted_similar_user = sorted(similar_user, key = lambda x:x[1], reverse = True)\n",
    "\n",
    "selected_user = pd.DataFrame()\n",
    "for value in sorted_similar_user[:5]:\n",
    "    selected_user = selected_user.append(user[user.index == value[0]])\n",
    "selected_user"
   ],
   "cell_type": "code",
   "metadata": {},
   "execution_count": 298,
   "outputs": [
    {
     "output_type": "execute_result",
     "data": {
      "text/plain": [
       "     user id  age gender occupation\n",
       "151      153   25      M    student\n",
       "152      154   25      M    student\n",
       "201      203   25      F    student\n",
       "246      248   25      M    student\n",
       "247      249   25      M    student"
      ],
      "text/html": "<div>\n<style scoped>\n    .dataframe tbody tr th:only-of-type {\n        vertical-align: middle;\n    }\n\n    .dataframe tbody tr th {\n        vertical-align: top;\n    }\n\n    .dataframe thead th {\n        text-align: right;\n    }\n</style>\n<table border=\"1\" class=\"dataframe\">\n  <thead>\n    <tr style=\"text-align: right;\">\n      <th></th>\n      <th>user id</th>\n      <th>age</th>\n      <th>gender</th>\n      <th>occupation</th>\n    </tr>\n  </thead>\n  <tbody>\n    <tr>\n      <th>151</th>\n      <td>153</td>\n      <td>25</td>\n      <td>M</td>\n      <td>student</td>\n    </tr>\n    <tr>\n      <th>152</th>\n      <td>154</td>\n      <td>25</td>\n      <td>M</td>\n      <td>student</td>\n    </tr>\n    <tr>\n      <th>201</th>\n      <td>203</td>\n      <td>25</td>\n      <td>F</td>\n      <td>student</td>\n    </tr>\n    <tr>\n      <th>246</th>\n      <td>248</td>\n      <td>25</td>\n      <td>M</td>\n      <td>student</td>\n    </tr>\n    <tr>\n      <th>247</th>\n      <td>249</td>\n      <td>25</td>\n      <td>M</td>\n      <td>student</td>\n    </tr>\n  </tbody>\n</table>\n</div>"
     },
     "metadata": {},
     "execution_count": 298
    }
   ]
  },
  {
   "source": [
    "## user similarity score"
   ],
   "cell_type": "markdown",
   "metadata": {}
  },
  {
   "cell_type": "code",
   "execution_count": 299,
   "metadata": {},
   "outputs": [
    {
     "output_type": "stream",
     "name": "stdout",
     "text": [
      "     user id  age gender occupation\n151      153   25      M    student score:  0.9999999999999998\n     user id  age gender occupation\n152      154   25      M    student score:  0.9999999999999998\n     user id  age gender occupation\n201      203   25      F    student score:  0.9999999999999998\n     user id  age gender occupation\n246      248   25      M    student score:  0.9999999999999998\n     user id  age gender occupation\n247      249   25      M    student score:  0.9999999999999998\n"
     ]
    }
   ],
   "source": [
    "for value in sorted_similar_user[:5]:\n",
    "    print(user[user.index == value[0]], 'score: ', value[1])\n"
   ]
  },
  {
   "source": [
    "## user rated movie"
   ],
   "cell_type": "markdown",
   "metadata": {}
  },
  {
   "cell_type": "code",
   "execution_count": 300,
   "metadata": {},
   "outputs": [
    {
     "output_type": "execute_result",
     "data": {
      "text/plain": [
       "   user id  item id  rating  timestamp\n",
       "0      186      302       3  891717742\n",
       "1       22      377       1  878887116\n",
       "2      244       51       2  880606923\n",
       "3      166      346       1  886397596\n",
       "4      298      474       4  884182806\n",
       "5      115      265       2  881171488\n",
       "6      253      465       5  891628467\n",
       "7      305      451       3  886324817\n",
       "8        6       86       3  883603013\n",
       "9       62      257       2  879372434"
      ],
      "text/html": "<div>\n<style scoped>\n    .dataframe tbody tr th:only-of-type {\n        vertical-align: middle;\n    }\n\n    .dataframe tbody tr th {\n        vertical-align: top;\n    }\n\n    .dataframe thead th {\n        text-align: right;\n    }\n</style>\n<table border=\"1\" class=\"dataframe\">\n  <thead>\n    <tr style=\"text-align: right;\">\n      <th></th>\n      <th>user id</th>\n      <th>item id</th>\n      <th>rating</th>\n      <th>timestamp</th>\n    </tr>\n  </thead>\n  <tbody>\n    <tr>\n      <th>0</th>\n      <td>186</td>\n      <td>302</td>\n      <td>3</td>\n      <td>891717742</td>\n    </tr>\n    <tr>\n      <th>1</th>\n      <td>22</td>\n      <td>377</td>\n      <td>1</td>\n      <td>878887116</td>\n    </tr>\n    <tr>\n      <th>2</th>\n      <td>244</td>\n      <td>51</td>\n      <td>2</td>\n      <td>880606923</td>\n    </tr>\n    <tr>\n      <th>3</th>\n      <td>166</td>\n      <td>346</td>\n      <td>1</td>\n      <td>886397596</td>\n    </tr>\n    <tr>\n      <th>4</th>\n      <td>298</td>\n      <td>474</td>\n      <td>4</td>\n      <td>884182806</td>\n    </tr>\n    <tr>\n      <th>5</th>\n      <td>115</td>\n      <td>265</td>\n      <td>2</td>\n      <td>881171488</td>\n    </tr>\n    <tr>\n      <th>6</th>\n      <td>253</td>\n      <td>465</td>\n      <td>5</td>\n      <td>891628467</td>\n    </tr>\n    <tr>\n      <th>7</th>\n      <td>305</td>\n      <td>451</td>\n      <td>3</td>\n      <td>886324817</td>\n    </tr>\n    <tr>\n      <th>8</th>\n      <td>6</td>\n      <td>86</td>\n      <td>3</td>\n      <td>883603013</td>\n    </tr>\n    <tr>\n      <th>9</th>\n      <td>62</td>\n      <td>257</td>\n      <td>2</td>\n      <td>879372434</td>\n    </tr>\n  </tbody>\n</table>\n</div>"
     },
     "metadata": {},
     "execution_count": 300
    }
   ],
   "source": [
    "rating = pd.read_csv('rating.csv')\n",
    "rating.head(10)"
   ]
  },
  {
   "cell_type": "code",
   "execution_count": 304,
   "metadata": {},
   "outputs": [
    {
     "output_type": "execute_result",
     "data": {
      "text/plain": [
       "[(50,\n",
       "         user id  item id  rating  timestamp\n",
       "  7786       154       50       5  879138657\n",
       "  14160      203       50       5  880434810\n",
       "  34817      248       50       5  884535013),\n",
       " (64,\n",
       "         user id  item id  rating  timestamp\n",
       "  7673       153       64       5  881371005\n",
       "  27885      249       64       5  879572210\n",
       "  37321      248       64       5  884534735),\n",
       " (89,\n",
       "         user id  item id  rating  timestamp\n",
       "  16410      154       89       5  879138910\n",
       "  24284      249       89       5  879572229\n",
       "  49741      248       89       5  884535046),\n",
       " (182,\n",
       "         user id  item id  rating  timestamp\n",
       "  4747       249      182       5  879640949\n",
       "  7780       154      182       5  879138783\n",
       "  43635      153      182       5  881371198),\n",
       " (11,\n",
       "         user id  item id  rating  timestamp\n",
       "  2427       249       11       5  879640868\n",
       "  11682      248       11       5  884534992)]"
      ]
     },
     "metadata": {},
     "execution_count": 304
    }
   ],
   "source": [
    "user_rated_movie = rating[rating['user id'].isin(selected_user['user id'].tolist())]\n",
    "user_rated_movie = user_rated_movie[user_rated_movie['rating'] >= 5]\n",
    "user_rated_movie = user_rated_movie.groupby(['item id'])\n",
    "user_rated_movie = sorted(user_rated_movie, key=lambda x: len(x[1]), reverse=True)\n",
    "\n",
    "user_rated_movie[:5]"
   ]
  },
  {
   "cell_type": "code",
   "execution_count": 307,
   "metadata": {},
   "outputs": [
    {
     "output_type": "execute_result",
     "data": {
      "text/plain": [
       "   item id                                        movie title  unknown  \\\n",
       "0        2                                   GoldenEye (1995)        0   \n",
       "1        3                                  Four Rooms (1995)        0   \n",
       "2        4                                  Get Shorty (1995)        0   \n",
       "3        5                                     Copycat (1995)        0   \n",
       "4        6  Shanghai Triad (Yao a yao yao dao waipo qiao) ...        0   \n",
       "5        7                              Twelve Monkeys (1995)        0   \n",
       "6        8                                        Babe (1995)        0   \n",
       "7        9                            Dead Man Walking (1995)        0   \n",
       "8       10                                 Richard III (1995)        0   \n",
       "9       11                               Seven (Se7en) (1995)        0   \n",
       "\n",
       "   action  adventure  animation  children's  comedy  crime  documentary  ...  \\\n",
       "0       1          1          0           0       0      0            0  ...   \n",
       "1       0          0          0           0       0      0            0  ...   \n",
       "2       1          0          0           0       1      0            0  ...   \n",
       "3       0          0          0           0       0      1            0  ...   \n",
       "4       0          0          0           0       0      0            0  ...   \n",
       "5       0          0          0           0       0      0            0  ...   \n",
       "6       0          0          0           1       1      0            0  ...   \n",
       "7       0          0          0           0       0      0            0  ...   \n",
       "8       0          0          0           0       0      0            0  ...   \n",
       "9       0          0          0           0       0      1            0  ...   \n",
       "\n",
       "   fantasy  film-noir  horror  musical  mystery  romance  sci-fi  thriller  \\\n",
       "0        0          0       0        0        0        0       0         1   \n",
       "1        0          0       0        0        0        0       0         1   \n",
       "2        0          0       0        0        0        0       0         0   \n",
       "3        0          0       0        0        0        0       0         1   \n",
       "4        0          0       0        0        0        0       0         0   \n",
       "5        0          0       0        0        0        0       1         0   \n",
       "6        0          0       0        0        0        0       0         0   \n",
       "7        0          0       0        0        0        0       0         0   \n",
       "8        0          0       0        0        0        0       0         0   \n",
       "9        0          0       0        0        0        0       0         1   \n",
       "\n",
       "   war  western  \n",
       "0    0        0  \n",
       "1    0        0  \n",
       "2    0        0  \n",
       "3    0        0  \n",
       "4    0        0  \n",
       "5    0        0  \n",
       "6    0        0  \n",
       "7    0        0  \n",
       "8    1        0  \n",
       "9    0        0  \n",
       "\n",
       "[10 rows x 21 columns]"
      ],
      "text/html": "<div>\n<style scoped>\n    .dataframe tbody tr th:only-of-type {\n        vertical-align: middle;\n    }\n\n    .dataframe tbody tr th {\n        vertical-align: top;\n    }\n\n    .dataframe thead th {\n        text-align: right;\n    }\n</style>\n<table border=\"1\" class=\"dataframe\">\n  <thead>\n    <tr style=\"text-align: right;\">\n      <th></th>\n      <th>item id</th>\n      <th>movie title</th>\n      <th>unknown</th>\n      <th>action</th>\n      <th>adventure</th>\n      <th>animation</th>\n      <th>children's</th>\n      <th>comedy</th>\n      <th>crime</th>\n      <th>documentary</th>\n      <th>...</th>\n      <th>fantasy</th>\n      <th>film-noir</th>\n      <th>horror</th>\n      <th>musical</th>\n      <th>mystery</th>\n      <th>romance</th>\n      <th>sci-fi</th>\n      <th>thriller</th>\n      <th>war</th>\n      <th>western</th>\n    </tr>\n  </thead>\n  <tbody>\n    <tr>\n      <th>0</th>\n      <td>2</td>\n      <td>GoldenEye (1995)</td>\n      <td>0</td>\n      <td>1</td>\n      <td>1</td>\n      <td>0</td>\n      <td>0</td>\n      <td>0</td>\n      <td>0</td>\n      <td>0</td>\n      <td>...</td>\n      <td>0</td>\n      <td>0</td>\n      <td>0</td>\n      <td>0</td>\n      <td>0</td>\n      <td>0</td>\n      <td>0</td>\n      <td>1</td>\n      <td>0</td>\n      <td>0</td>\n    </tr>\n    <tr>\n      <th>1</th>\n      <td>3</td>\n      <td>Four Rooms (1995)</td>\n      <td>0</td>\n      <td>0</td>\n      <td>0</td>\n      <td>0</td>\n      <td>0</td>\n      <td>0</td>\n      <td>0</td>\n      <td>0</td>\n      <td>...</td>\n      <td>0</td>\n      <td>0</td>\n      <td>0</td>\n      <td>0</td>\n      <td>0</td>\n      <td>0</td>\n      <td>0</td>\n      <td>1</td>\n      <td>0</td>\n      <td>0</td>\n    </tr>\n    <tr>\n      <th>2</th>\n      <td>4</td>\n      <td>Get Shorty (1995)</td>\n      <td>0</td>\n      <td>1</td>\n      <td>0</td>\n      <td>0</td>\n      <td>0</td>\n      <td>1</td>\n      <td>0</td>\n      <td>0</td>\n      <td>...</td>\n      <td>0</td>\n      <td>0</td>\n      <td>0</td>\n      <td>0</td>\n      <td>0</td>\n      <td>0</td>\n      <td>0</td>\n      <td>0</td>\n      <td>0</td>\n      <td>0</td>\n    </tr>\n    <tr>\n      <th>3</th>\n      <td>5</td>\n      <td>Copycat (1995)</td>\n      <td>0</td>\n      <td>0</td>\n      <td>0</td>\n      <td>0</td>\n      <td>0</td>\n      <td>0</td>\n      <td>1</td>\n      <td>0</td>\n      <td>...</td>\n      <td>0</td>\n      <td>0</td>\n      <td>0</td>\n      <td>0</td>\n      <td>0</td>\n      <td>0</td>\n      <td>0</td>\n      <td>1</td>\n      <td>0</td>\n      <td>0</td>\n    </tr>\n    <tr>\n      <th>4</th>\n      <td>6</td>\n      <td>Shanghai Triad (Yao a yao yao dao waipo qiao) ...</td>\n      <td>0</td>\n      <td>0</td>\n      <td>0</td>\n      <td>0</td>\n      <td>0</td>\n      <td>0</td>\n      <td>0</td>\n      <td>0</td>\n      <td>...</td>\n      <td>0</td>\n      <td>0</td>\n      <td>0</td>\n      <td>0</td>\n      <td>0</td>\n      <td>0</td>\n      <td>0</td>\n      <td>0</td>\n      <td>0</td>\n      <td>0</td>\n    </tr>\n    <tr>\n      <th>5</th>\n      <td>7</td>\n      <td>Twelve Monkeys (1995)</td>\n      <td>0</td>\n      <td>0</td>\n      <td>0</td>\n      <td>0</td>\n      <td>0</td>\n      <td>0</td>\n      <td>0</td>\n      <td>0</td>\n      <td>...</td>\n      <td>0</td>\n      <td>0</td>\n      <td>0</td>\n      <td>0</td>\n      <td>0</td>\n      <td>0</td>\n      <td>1</td>\n      <td>0</td>\n      <td>0</td>\n      <td>0</td>\n    </tr>\n    <tr>\n      <th>6</th>\n      <td>8</td>\n      <td>Babe (1995)</td>\n      <td>0</td>\n      <td>0</td>\n      <td>0</td>\n      <td>0</td>\n      <td>1</td>\n      <td>1</td>\n      <td>0</td>\n      <td>0</td>\n      <td>...</td>\n      <td>0</td>\n      <td>0</td>\n      <td>0</td>\n      <td>0</td>\n      <td>0</td>\n      <td>0</td>\n      <td>0</td>\n      <td>0</td>\n      <td>0</td>\n      <td>0</td>\n    </tr>\n    <tr>\n      <th>7</th>\n      <td>9</td>\n      <td>Dead Man Walking (1995)</td>\n      <td>0</td>\n      <td>0</td>\n      <td>0</td>\n      <td>0</td>\n      <td>0</td>\n      <td>0</td>\n      <td>0</td>\n      <td>0</td>\n      <td>...</td>\n      <td>0</td>\n      <td>0</td>\n      <td>0</td>\n      <td>0</td>\n      <td>0</td>\n      <td>0</td>\n      <td>0</td>\n      <td>0</td>\n      <td>0</td>\n      <td>0</td>\n    </tr>\n    <tr>\n      <th>8</th>\n      <td>10</td>\n      <td>Richard III (1995)</td>\n      <td>0</td>\n      <td>0</td>\n      <td>0</td>\n      <td>0</td>\n      <td>0</td>\n      <td>0</td>\n      <td>0</td>\n      <td>0</td>\n      <td>...</td>\n      <td>0</td>\n      <td>0</td>\n      <td>0</td>\n      <td>0</td>\n      <td>0</td>\n      <td>0</td>\n      <td>0</td>\n      <td>0</td>\n      <td>1</td>\n      <td>0</td>\n    </tr>\n    <tr>\n      <th>9</th>\n      <td>11</td>\n      <td>Seven (Se7en) (1995)</td>\n      <td>0</td>\n      <td>0</td>\n      <td>0</td>\n      <td>0</td>\n      <td>0</td>\n      <td>0</td>\n      <td>1</td>\n      <td>0</td>\n      <td>...</td>\n      <td>0</td>\n      <td>0</td>\n      <td>0</td>\n      <td>0</td>\n      <td>0</td>\n      <td>0</td>\n      <td>0</td>\n      <td>1</td>\n      <td>0</td>\n      <td>0</td>\n    </tr>\n  </tbody>\n</table>\n<p>10 rows × 21 columns</p>\n</div>"
     },
     "metadata": {},
     "execution_count": 307
    }
   ],
   "source": [
    "movie = pd.read_csv('movie.csv')\n",
    "movie = movie.dropna(axis=1)\n",
    "movie.head(10)"
   ]
  },
  {
   "cell_type": "code",
   "execution_count": 305,
   "metadata": {},
   "outputs": [
    {
     "output_type": "execute_result",
     "data": {
      "text/plain": [
       "     item id                       movie title  unknown  action  adventure  \\\n",
       "48        50                  Star Wars (1977)        0       1          1   \n",
       "62        64  Shawshank Redemption, The (1994)        0       0          0   \n",
       "87        89               Blade Runner (1982)        0       0          0   \n",
       "180      182                 GoodFellas (1990)        0       0          0   \n",
       "9         11              Seven (Se7en) (1995)        0       0          0   \n",
       "\n",
       "     animation  children's  comedy  crime  documentary  ...  fantasy  \\\n",
       "48           0           0       0      0            0  ...        0   \n",
       "62           0           0       0      0            0  ...        0   \n",
       "87           0           0       0      0            0  ...        0   \n",
       "180          0           0       0      1            0  ...        0   \n",
       "9            0           0       0      1            0  ...        0   \n",
       "\n",
       "     film-noir  horror  musical  mystery  romance  sci-fi  thriller  war  \\\n",
       "48           0       0        0        0        1       1         0    1   \n",
       "62           0       0        0        0        0       0         0    0   \n",
       "87           1       0        0        0        0       1         0    0   \n",
       "180          0       0        0        0        0       0         0    0   \n",
       "9            0       0        0        0        0       0         1    0   \n",
       "\n",
       "     western  \n",
       "48         0  \n",
       "62         0  \n",
       "87         0  \n",
       "180        0  \n",
       "9          0  \n",
       "\n",
       "[5 rows x 21 columns]"
      ],
      "text/html": "<div>\n<style scoped>\n    .dataframe tbody tr th:only-of-type {\n        vertical-align: middle;\n    }\n\n    .dataframe tbody tr th {\n        vertical-align: top;\n    }\n\n    .dataframe thead th {\n        text-align: right;\n    }\n</style>\n<table border=\"1\" class=\"dataframe\">\n  <thead>\n    <tr style=\"text-align: right;\">\n      <th></th>\n      <th>item id</th>\n      <th>movie title</th>\n      <th>unknown</th>\n      <th>action</th>\n      <th>adventure</th>\n      <th>animation</th>\n      <th>children's</th>\n      <th>comedy</th>\n      <th>crime</th>\n      <th>documentary</th>\n      <th>...</th>\n      <th>fantasy</th>\n      <th>film-noir</th>\n      <th>horror</th>\n      <th>musical</th>\n      <th>mystery</th>\n      <th>romance</th>\n      <th>sci-fi</th>\n      <th>thriller</th>\n      <th>war</th>\n      <th>western</th>\n    </tr>\n  </thead>\n  <tbody>\n    <tr>\n      <th>48</th>\n      <td>50</td>\n      <td>Star Wars (1977)</td>\n      <td>0</td>\n      <td>1</td>\n      <td>1</td>\n      <td>0</td>\n      <td>0</td>\n      <td>0</td>\n      <td>0</td>\n      <td>0</td>\n      <td>...</td>\n      <td>0</td>\n      <td>0</td>\n      <td>0</td>\n      <td>0</td>\n      <td>0</td>\n      <td>1</td>\n      <td>1</td>\n      <td>0</td>\n      <td>1</td>\n      <td>0</td>\n    </tr>\n    <tr>\n      <th>62</th>\n      <td>64</td>\n      <td>Shawshank Redemption, The (1994)</td>\n      <td>0</td>\n      <td>0</td>\n      <td>0</td>\n      <td>0</td>\n      <td>0</td>\n      <td>0</td>\n      <td>0</td>\n      <td>0</td>\n      <td>...</td>\n      <td>0</td>\n      <td>0</td>\n      <td>0</td>\n      <td>0</td>\n      <td>0</td>\n      <td>0</td>\n      <td>0</td>\n      <td>0</td>\n      <td>0</td>\n      <td>0</td>\n    </tr>\n    <tr>\n      <th>87</th>\n      <td>89</td>\n      <td>Blade Runner (1982)</td>\n      <td>0</td>\n      <td>0</td>\n      <td>0</td>\n      <td>0</td>\n      <td>0</td>\n      <td>0</td>\n      <td>0</td>\n      <td>0</td>\n      <td>...</td>\n      <td>0</td>\n      <td>1</td>\n      <td>0</td>\n      <td>0</td>\n      <td>0</td>\n      <td>0</td>\n      <td>1</td>\n      <td>0</td>\n      <td>0</td>\n      <td>0</td>\n    </tr>\n    <tr>\n      <th>180</th>\n      <td>182</td>\n      <td>GoodFellas (1990)</td>\n      <td>0</td>\n      <td>0</td>\n      <td>0</td>\n      <td>0</td>\n      <td>0</td>\n      <td>0</td>\n      <td>1</td>\n      <td>0</td>\n      <td>...</td>\n      <td>0</td>\n      <td>0</td>\n      <td>0</td>\n      <td>0</td>\n      <td>0</td>\n      <td>0</td>\n      <td>0</td>\n      <td>0</td>\n      <td>0</td>\n      <td>0</td>\n    </tr>\n    <tr>\n      <th>9</th>\n      <td>11</td>\n      <td>Seven (Se7en) (1995)</td>\n      <td>0</td>\n      <td>0</td>\n      <td>0</td>\n      <td>0</td>\n      <td>0</td>\n      <td>0</td>\n      <td>1</td>\n      <td>0</td>\n      <td>...</td>\n      <td>0</td>\n      <td>0</td>\n      <td>0</td>\n      <td>0</td>\n      <td>0</td>\n      <td>0</td>\n      <td>0</td>\n      <td>1</td>\n      <td>0</td>\n      <td>0</td>\n    </tr>\n  </tbody>\n</table>\n<p>5 rows × 21 columns</p>\n</div>"
     },
     "metadata": {},
     "execution_count": 305
    }
   ],
   "source": [
    "movie_filter_list = pd.DataFrame()\n",
    "for id, group in user_rated_movie[:5]:\n",
    "    movie_filter_list = movie_filter_list.append(movie[movie['item id'] == id])\n",
    "\n",
    "movie_filter_list"
   ]
  },
  {
   "cell_type": "code",
   "execution_count": null,
   "metadata": {},
   "outputs": [],
   "source": [
    "movie['combined'] = movie[movie.columns[4:]].apply(lambda x: ''.join(x.dropna().astype(str)), axis=1)\n",
    "\n",
    "count = CountVectorizer()\n",
    "movie_count_matrix = count.fit_transform(movie['combined'])\n",
    "movie_sim = cosine_similarity(movie_count_matrix)\n",
    "\n",
    "movie = movie.drop(columns=['combined'])"
   ]
  },
  {
   "cell_type": "code",
   "execution_count": 308,
   "metadata": {},
   "outputs": [],
   "source": [
    "suggested_movie_list = pd.DataFrame()"
   ]
  },
  {
   "cell_type": "code",
   "execution_count": 310,
   "metadata": {
    "tags": []
   },
   "outputs": [
    {
     "output_type": "execute_result",
     "data": {
      "text/plain": [
       "48                                      Star Wars (1977)\n",
       "179                            Return of the Jedi (1983)\n",
       "0                                       GoldenEye (1995)\n",
       "1                                      Four Rooms (1995)\n",
       "2                                      Get Shorty (1995)\n",
       "4      Shanghai Triad (Yao a yao yao dao waipo qiao) ...\n",
       "7                                Dead Man Walking (1995)\n",
       "13                             Mr. Holland's Opus (1995)\n",
       "16                             White Balloon, The (1995)\n",
       "17                                 Antonia's Line (1995)\n",
       "87                                   Blade Runner (1982)\n",
       "0                                       GoldenEye (1995)\n",
       "1                                      Four Rooms (1995)\n",
       "2                                      Get Shorty (1995)\n",
       "3                                         Copycat (1995)\n",
       "54                                   Pulp Fiction (1994)\n",
       "74                                  Carlito's Way (1993)\n",
       "125                                Godfather, The (1972)\n",
       "180                                    GoodFellas (1990)\n",
       "185                       Godfather: Part II, The (1974)\n",
       "9                                   Seven (Se7en) (1995)\n",
       "10                            Usual Suspects, The (1995)\n",
       "154                                Reservoir Dogs (1992)\n",
       "271                                          Heat (1995)\n",
       "334                                   Playing God (1997)\n",
       "Name: movie title, dtype: object"
      ]
     },
     "metadata": {},
     "execution_count": 310
    }
   ],
   "source": [
    "for index in movie_filter_list.index:\n",
    "    list = []\n",
    "    for value in enumerate(movie_sim[index]):\n",
    "        list.append(value)\n",
    "    sorted_list = sorted(list, key = lambda x:x[1], reverse = True)\n",
    "\n",
    "    for x in sorted_list[:5]:\n",
    "        suggested_movie_list = suggested_movie_list.append(movie[movie.index == x[0]])\n",
    "\n",
    "suggested_movie_list['movie title'].head(25)"
   ]
  },
  {
   "cell_type": "code",
   "execution_count": null,
   "metadata": {},
   "outputs": [],
   "source": []
  }
 ]
}